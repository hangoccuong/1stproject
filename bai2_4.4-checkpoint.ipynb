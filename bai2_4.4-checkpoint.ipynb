{
 "cells": [
  {
   "cell_type": "code",
   "execution_count": null,
   "id": "dfd6d7da",
   "metadata": {},
   "outputs": [],
   "source": [
    "a = int(input(\"nhập a: \")) \n",
    "b = int(input(\"nhập b: \")) \n",
    "c = int(input(\"nhập c: \"))\n",
    "print(\"Phương trình bậc 2 tiêu chuẩn: \")\n",
    "if a ==0:\n",
    "    if b==0:\n",
    "        print(c) \n",
    "    else:\n",
    "        if b==1:\n",
    "            b=''\n",
    "        elif b==-1:\n",
    "            b = '-'\n",
    "        if c ==0:\n",
    "            print('{0}x'.format(b) ) \n",
    "        elif c>0:\n",
    "            print('{0}x + {1}'.format(b, c)) \n",
    "        else:\n",
    "            print('{0}x - {1}'.format(b, -c)) \n",
    "else:\n",
    "    if a==1:\n",
    "        a=''\n",
    "    elif a==-1:\n",
    "        a='-'\n",
    "    if b == 0:\n",
    "        if c == 0:\n",
    "            print('{0}x^2'.format(a)) \n",
    "        elif c>0:\n",
    "            print('{0}x^2 + {1}'.format(a, c))\n",
    "        else:\n",
    "            print('{0}x^2 - {1}'.format(a, -c))\n",
    "    else:\n",
    "        if b== 1:\n",
    "            b=''\n",
    "        elif b==-1:\n",
    "            b='-'\n",
    "        if c ==0:\n",
    "            if b >1:\n",
    "                print('{0}x^2 +{1}x'. format(a, b)) \n",
    "            if b<-1:\n",
    "                print('{0}x^2 -{1}x'. format(a, -b)) \n",
    "        elif c>0:\n",
    "            if b >1:\n",
    "                print('{0}x^2 +{1}x + {2}'.format(a, b, c)) \n",
    "            if b<-1:\n",
    "                print('{0}x^2 -{1}x + {2}'.format(a, -b, c))\n",
    "        else:\n",
    "            if b >1:\n",
    "                print('{0}x^2 + {1}x - {2}'.format(a, b, -c)) \n",
    "            if b<-1:\n",
    "                print('{0}x^2 - {1}x - {2}'.format(a, -b, -c))"
   ]
  }
 ],
 "metadata": {
  "kernelspec": {
   "display_name": "Python 3 (ipykernel)",
   "language": "python",
   "name": "python3"
  },
  "language_info": {
   "codemirror_mode": {
    "name": "ipython",
    "version": 3
   },
   "file_extension": ".py",
   "mimetype": "text/x-python",
   "name": "python",
   "nbconvert_exporter": "python",
   "pygments_lexer": "ipython3",
   "version": "3.9.7"
  }
 },
 "nbformat": 4,
 "nbformat_minor": 5
}
