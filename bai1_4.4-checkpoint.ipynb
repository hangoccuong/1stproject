{
 "cells": [
  {
   "cell_type": "code",
   "execution_count": 7,
   "id": "d9c2929c",
   "metadata": {},
   "outputs": [
    {
     "name": "stdout",
     "output_type": "stream",
     "text": [
      "Điểm kiểm tra 15 phút: 5\n",
      "Điểm kiểm tra Giữa kỳ: 6\n",
      "Điểm kiểm tra Cuối kỳ: 8\n",
      "6.666666666666667\n",
      "học sinh khá\n"
     ]
    }
   ],
   "source": [
    "heso1 = int(input(\"Điểm kiểm tra 15 phút: \"))\n",
    "heso2 = int(input(\"Điểm kiểm tra Giữa kỳ: \"))\n",
    "heso3 = int(input(\"Điểm kiểm tra Cuối kỳ: \"))\n",
    "\n",
    "a = (heso1*1 + heso2*1.5 + heso3*2)/(1+1.5+2)\n",
    "print(a)\n",
    "if a>=8:\n",
    "        print(\"học sinh giỏi\")\n",
    "elif a<8 and a>=6.5:\n",
    "        print(\"học sinh khá\")\n",
    "elif a<6.5 and a>=5:\n",
    "        print(\"học sinh trung bình\")\n",
    "elif a>=0 and a<5:\n",
    "        print(\"học sinh yếu\")\n",
    "else:\n",
    "        print(\"lỗi\")"
   ]
  },
  {
   "cell_type": "code",
   "execution_count": null,
   "id": "3f9e3817",
   "metadata": {},
   "outputs": [],
   "source": []
  },
  {
   "cell_type": "code",
   "execution_count": null,
   "id": "804f0b52",
   "metadata": {},
   "outputs": [],
   "source": []
  }
 ],
 "metadata": {
  "kernelspec": {
   "display_name": "Python 3 (ipykernel)",
   "language": "python",
   "name": "python3"
  },
  "language_info": {
   "codemirror_mode": {
    "name": "ipython",
    "version": 3
   },
   "file_extension": ".py",
   "mimetype": "text/x-python",
   "name": "python",
   "nbconvert_exporter": "python",
   "pygments_lexer": "ipython3",
   "version": "3.9.7"
  }
 },
 "nbformat": 4,
 "nbformat_minor": 5
}
